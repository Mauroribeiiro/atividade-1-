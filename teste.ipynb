{
 "cells": [
  {
   "cell_type": "code",
   "execution_count": 9,
   "metadata": {},
   "outputs": [
    {
     "name": "stdout",
     "output_type": "stream",
     "text": [
      "100.0\n"
     ]
    }
   ],
   "source": [
    "numero1  = float(input('digite um número real'))\n",
    "numero2 = float(input('digite um número real'))\n",
    "numero3 = int(input('digite um número inteiro'))\n",
    "#alternativa a do sexto\n",
    "produto = (numero1 *2) * (numero2 /2)\n",
    "\n",
    "print(produto)"
   ]
  },
  {
   "cell_type": "code",
   "execution_count": 37,
   "metadata": {},
   "outputs": [
    {
     "name": "stdout",
     "output_type": "stream",
     "text": [
      "1030.0\n"
     ]
    }
   ],
   "source": [
    "#alternativa b do sexto\n",
    "produto2 = (numero1 *3) + (numero3 **3)\n",
    "print(produto2)"
   ]
  },
  {
   "cell_type": "code",
   "execution_count": 12,
   "metadata": {},
   "outputs": [
    {
     "name": "stdout",
     "output_type": "stream",
     "text": [
      " o maior numero é: 100.0\n"
     ]
    }
   ],
   "source": [
    "#peça dois numeros e imprima o paior deles \n",
    "\n",
    "num1 = float(input('digite um número'))\n",
    "num2 = float(input('digite um número'))\n",
    "\n",
    "if(num1 > num2):\n",
    "    print('o maior número é:', num1 )\n",
    "else:\n",
    "    print( ' o maior número é:', num2)\n"
   ]
  },
  {
   "cell_type": "code",
   "execution_count": 28,
   "metadata": {},
   "outputs": [
    {
     "name": "stdout",
     "output_type": "stream",
     "text": [
      "numero negativo\n"
     ]
    }
   ],
   "source": [
    "#numero positivo e negativo\n",
    "\n",
    "numero = float(input('digite um número'))\n",
    "\n",
    "if(numero > 0):\n",
    "    print ('numero positivo')\n",
    "else:\n",
    "    print('numero negativo')"
   ]
  },
  {
   "cell_type": "code",
   "execution_count": 36,
   "metadata": {},
   "outputs": [
    {
     "name": "stdout",
     "output_type": "stream",
     "text": [
      "aprovado\n"
     ]
    }
   ],
   "source": [
    "#media do aluno 7 \n",
    "\n",
    "nota1 = float(input( 'digite a nota 1:'))\n",
    "nota2 = float(input('digite a nota 2:'))\n",
    "\n",
    "media = ( nota1 + nota2 ) /2\n",
    "\n",
    "if ( media >=7):\n",
    "    print('aprovado')\n",
    "else:\n",
    "    print('reprovado')"
   ]
  },
  {
   "cell_type": "code",
   "execution_count": 46,
   "metadata": {},
   "outputs": [
    {
     "name": "stdout",
     "output_type": "stream",
     "text": [
      "o maior numeo é: 69.0\n"
     ]
    }
   ],
   "source": [
    "# pedir 3 numers e informar o maior \n",
    "\n",
    "numero1 = float(input('digite um número'))\n",
    "numero2 = float(input('digite um número'))\n",
    "numero3 = float(input('digite um número'))\n",
    "\n",
    "if(numero1 > numero2):\n",
    "    print('o maior número é:', numero1)\n",
    "elif (numero2 > numero3):\n",
    "    print('o maior número é:', numero2)\n",
    "else:\n",
    "    print('o maior número é:', numero3)"
   ]
  }
 ],
 "metadata": {
  "kernelspec": {
   "display_name": "Python 3",
   "language": "python",
   "name": "python3"
  },
  "language_info": {
   "codemirror_mode": {
    "name": "ipython",
    "version": 3
   },
   "file_extension": ".py",
   "mimetype": "text/x-python",
   "name": "python",
   "nbconvert_exporter": "python",
   "pygments_lexer": "ipython3",
   "version": "3.11.8"
  }
 },
 "nbformat": 4,
 "nbformat_minor": 2
}
